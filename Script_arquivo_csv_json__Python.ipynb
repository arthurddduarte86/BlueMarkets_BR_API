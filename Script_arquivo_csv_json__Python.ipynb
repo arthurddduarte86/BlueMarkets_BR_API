{
 "cells": [
  {
   "cell_type": "code",
   "execution_count": 26,
   "id": "50e760ec",
   "metadata": {},
   "outputs": [],
   "source": [
    "import csv\n",
    "import json"
   ]
  },
  {
   "cell_type": "code",
   "execution_count": 27,
   "id": "7ab2a555",
   "metadata": {},
   "outputs": [],
   "source": [
    "''' Função pra converter um arquivo CSV para JSON, pega o local do arquivo como argumento\n",
    "'''\n",
    "def create_json(csvFilePath, jsonFilePath):\n",
    "    #criar um dicionario\n",
    "    data={}\n",
    "    # abre um leitor CSV reader, chamado DictReader\n",
    "    with open(csvFilePath, encoding='utf-8') as csvf:\n",
    "        csvReader = csv.DictReader(csvf)\n",
    "        \n",
    "        # converte cada linha dentro de um dicionario e adiciona ao data{}\n",
    "        for rows in csvReader:\n",
    "            key = rows['id_transaction'] # assumindo coluna \"id_transaction\" como primary key\n",
    "            data[key] = rows\n",
    "    with open(jsonFilePath, 'w', encoding='utf-8') as jsonf:\n",
    "        jsonf.write(json.dumps(data, indent=4))\n",
    "    \n",
    "    \n",
    "csvFilePath = r'DataFrame_corp_data_for_database.csv'\n",
    "jsonFilePath = r'DataFrame_corp_data_for_database.json'\n",
    "    \n",
    "create_json(csvFilePath, jsonFilePath)"
   ]
  },
  {
   "cell_type": "code",
   "execution_count": null,
   "id": "bea35f77",
   "metadata": {},
   "outputs": [],
   "source": []
  },
  {
   "cell_type": "code",
   "execution_count": null,
   "id": "b377672c",
   "metadata": {},
   "outputs": [],
   "source": []
  },
  {
   "cell_type": "code",
   "execution_count": null,
   "id": "16c6df76",
   "metadata": {},
   "outputs": [],
   "source": []
  },
  {
   "cell_type": "code",
   "execution_count": null,
   "id": "78d16105",
   "metadata": {},
   "outputs": [],
   "source": []
  },
  {
   "cell_type": "code",
   "execution_count": null,
   "id": "5d4d2ad3",
   "metadata": {},
   "outputs": [],
   "source": []
  },
  {
   "cell_type": "code",
   "execution_count": null,
   "id": "e0c53356",
   "metadata": {},
   "outputs": [],
   "source": []
  },
  {
   "cell_type": "code",
   "execution_count": null,
   "id": "434ec50f",
   "metadata": {},
   "outputs": [],
   "source": []
  }
 ],
 "metadata": {
  "kernelspec": {
   "display_name": "Python 3 (ipykernel)",
   "language": "python",
   "name": "python3"
  },
  "language_info": {
   "codemirror_mode": {
    "name": "ipython",
    "version": 3
   },
   "file_extension": ".py",
   "mimetype": "text/x-python",
   "name": "python",
   "nbconvert_exporter": "python",
   "pygments_lexer": "ipython3",
   "version": "3.9.13"
  }
 },
 "nbformat": 4,
 "nbformat_minor": 5
}
